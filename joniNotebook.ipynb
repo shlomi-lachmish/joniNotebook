{
 "cells": [
  {
   "cell_type": "markdown",
   "id": "bfa25b80",
   "metadata": {},
   "source": [
    "Location is combinationnn of string & number.\n",
    "e.g. \"B5\"\n",
    "\n",
    "first string char stands for row B=>second row from the top\n",
    "\"A\" in ascii is 65  and \"F\"\n",
    "\n",
    "while the second int char stands for the column 5=> 5th column"
   ]
  },
  {
   "cell_type": "code",
   "execution_count": 15,
   "id": "36a64214",
   "metadata": {},
   "outputs": [
    {
     "name": "stdout",
     "output_type": "stream",
     "text": [
      "65 70\n"
     ]
    }
   ],
   "source": [
    "print(ord(\"A\"), ord(\"F\"))"
   ]
  },
  {
   "cell_type": "code",
   "execution_count": 16,
   "id": "b3ab461a",
   "metadata": {},
   "outputs": [
    {
     "data": {
      "text/plain": [
       "'B'"
      ]
     },
     "execution_count": 16,
     "metadata": {},
     "output_type": "execute_result"
    }
   ],
   "source": [
    "chr(ord(\"A\")+1)"
   ]
  },
  {
   "cell_type": "markdown",
   "id": "a4c6cbb2",
   "metadata": {},
   "source": [
    "We will definne 4 move functions \n",
    "* moveUp\n",
    "* moveRight\n",
    "* moveDown\n",
    "* moveLeft"
   ]
  },
  {
   "cell_type": "code",
   "execution_count": 68,
   "id": "14df9699",
   "metadata": {},
   "outputs": [],
   "source": [
    "location =\"C3\""
   ]
  },
  {
   "cell_type": "code",
   "execution_count": 69,
   "id": "68ad5d80",
   "metadata": {},
   "outputs": [],
   "source": [
    "def moveUp(location):\n",
    "    print(ord(location[0]))\n",
    "    if ord(location[0]) > 65:\n",
    "        newRow = chr(ord(location[0])-1)\n",
    "        location = newRow+location[1]\n",
    "    else:\n",
    "        print(\"you cannot go up from this location\")\n",
    "    return location"
   ]
  },
  {
   "cell_type": "code",
   "execution_count": 72,
   "id": "a02e7c74",
   "metadata": {
    "scrolled": true
   },
   "outputs": [
    {
     "name": "stdout",
     "output_type": "stream",
     "text": [
      "65\n",
      "you cannot go up from this location\n",
      "A3\n"
     ]
    }
   ],
   "source": [
    "location = moveUp(location)\n",
    "print(location)"
   ]
  },
  {
   "cell_type": "code",
   "execution_count": 73,
   "id": "516b31ae",
   "metadata": {},
   "outputs": [],
   "source": [
    "def moveRight(location):\n",
    "    print(ord(location[1]))\n",
    "    if int(location[1]) < 7:\n",
    "        newCoumn = int(location[1])+1\n",
    "        location = location[0]+str(newCoumn)\n",
    "    else:\n",
    "        print(\"you cannot go right from this location\")\n",
    "    return location"
   ]
  },
  {
   "cell_type": "code",
   "execution_count": 78,
   "id": "27692e3b",
   "metadata": {},
   "outputs": [
    {
     "name": "stdout",
     "output_type": "stream",
     "text": [
      "55\n",
      "you cannot go right from this location\n",
      "A7\n"
     ]
    }
   ],
   "source": [
    "location = moveRight(location)\n",
    "print(location)"
   ]
  }
 ],
 "metadata": {
  "kernelspec": {
   "display_name": "Python 3 (ipykernel)",
   "language": "python",
   "name": "python3"
  },
  "language_info": {
   "codemirror_mode": {
    "name": "ipython",
    "version": 3
   },
   "file_extension": ".py",
   "mimetype": "text/x-python",
   "name": "python",
   "nbconvert_exporter": "python",
   "pygments_lexer": "ipython3",
   "version": "3.9.7"
  }
 },
 "nbformat": 4,
 "nbformat_minor": 5
}
